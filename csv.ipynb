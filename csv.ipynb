{
 "cells": [
  {
   "cell_type": "code",
   "execution_count": 1,
   "id": "83662a39",
   "metadata": {},
   "outputs": [
    {
     "name": "stdout",
     "output_type": "stream",
     "text": [
      "CSV file as a dictionary:\n",
      "\n",
      "{'department_id': '10', ' department_name': ' Administration', '  manager_id': ' 200', '  location_id': ' 1700'}\n",
      "{'department_id': '20', ' department_name': ' Marketing', '  manager_id': ' 201', '  location_id': ' 1800'}\n",
      "{'department_id': '30', ' department_name': ' Purchasing', '  manager_id': ' 114', '  location_id': ' 1700'}\n",
      "{'department_id': '40', ' department_name': ' Human Resources', '  manager_id': ' 203', '  location_id': ' 2400'}\n",
      "{'department_id': '50', ' department_name': ' Shipping', '  manager_id': ' 121', '  location_id': ' 1500'}\n",
      "{'department_id': '60', ' department_name': ' IT', '  manager_id': ' 103', '  location_id': ' 1400'}\n",
      "{'department_id': '70', ' department_name': ' Public Relations', '  manager_id': ' 204', '  location_id': ' 2700'}\n",
      "{'department_id': '80', ' department_name': ' Sales', '  manager_id': ' 145', '  location_id': ' 2500'}\n"
     ]
    }
   ],
   "source": [
    "import csv\n",
    "data=csv.DictReader(open(\"departments.csv\"))\n",
    "print(\"CSV file as a dictionary:\\n\")\n",
    "for row in data:\n",
    "    print(row)"
   ]
  },
  {
   "cell_type": "code",
   "execution_count": 4,
   "id": "8daa05ea",
   "metadata": {},
   "outputs": [
    {
     "name": "stdout",
     "output_type": "stream",
     "text": [
      "['department_id,department_name,manager_id,location_id']\n",
      "['10,Administration,200,1700']\n",
      "['20,Marketing,201,1800']\n",
      "['30,Purchasing,114,1700']\n",
      "['40,Human', 'Resources,203,2400']\n",
      "['50,Shipping,121,1500']\n",
      "['60,IT,103,1400']\n",
      "['70,Public', 'Relations,204,2700']\n",
      "['80,Sales,145,2500']\n",
      "['90,Executive,100,1700']\n",
      "['100,Finance,108,1700']\n",
      "['110,Accounting,205,1700']\n",
      "['120,Treasury,,1700']\n",
      "['130,Corporate', 'Tax,,1700']\n",
      "['140,Control', 'And', 'Credit,,1700']\n",
      "['150,Shareholder', 'Services,,1700']\n",
      "['160,Benefits,,1700']\n",
      "['170,Manufacturing,,1700']\n",
      "['180,Construction,,1700']\n",
      "['190,Contracting,,1700']\n",
      "['200,Operations,,1700']\n",
      "['210,IT', 'Support,,1700']\n",
      "['220,NOC,,1700']\n",
      "['230,IT', 'Helpdesk,,1700']\n",
      "['240,Government', 'Sales,,1700']\n",
      "['250,Retail', 'Sales,,1700']\n",
      "['260,Recruiting,,1700']\n",
      "['270,Payroll,,1700']\n"
     ]
    },
    {
     "data": {
      "text/plain": [
       "_csv.reader"
      ]
     },
     "execution_count": 4,
     "metadata": {},
     "output_type": "execute_result"
    }
   ],
   "source": [
    "import csv\n",
    "with open('departments2.csv', newline='')as csvfile:\n",
    "    data=csv.reader(csvfile, delimiter=' ', quotechar='|')\n",
    "    for row in data:\n",
    "        #print(''.join(row))\n",
    "        print(row)\n",
    "type(data)\n",
    "#type(row)"
   ]
  },
  {
   "cell_type": "code",
   "execution_count": null,
   "id": "03a64fd2",
   "metadata": {},
   "outputs": [],
   "source": []
  },
  {
   "cell_type": "code",
   "execution_count": null,
   "id": "a11ceb8c",
   "metadata": {},
   "outputs": [],
   "source": []
  }
 ],
 "metadata": {
  "kernelspec": {
   "display_name": "Python 3 (ipykernel)",
   "language": "python",
   "name": "python3"
  },
  "language_info": {
   "codemirror_mode": {
    "name": "ipython",
    "version": 3
   },
   "file_extension": ".py",
   "mimetype": "text/x-python",
   "name": "python",
   "nbconvert_exporter": "python",
   "pygments_lexer": "ipython3",
   "version": "3.11.3"
  }
 },
 "nbformat": 4,
 "nbformat_minor": 5
}
